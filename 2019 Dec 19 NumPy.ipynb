{
 "cells": [
  {
   "cell_type": "markdown",
   "metadata": {},
   "source": [
    "# NumPy Arrays\n",
    "\n",
    "**python objects:** \n",
    "\n",
    "1. high-level number objects: integers, floating point\n",
    "2. containers: lists (costless insertion and append), dictionaries (fast lookup)\n",
    "\n",
    "**Numpy provides:**\n",
    "\n",
    "1. extension package to Python for multi-dimensional arrays\n",
    "2. closer to hardware (efficiency)\n",
    "3. designed for scientific computation (convenience)\n",
    "4. Also known as array oriented computing"
   ]
  },
  {
   "cell_type": "markdown",
   "metadata": {},
   "source": [
    "## Importing numpy module"
   ]
  },
  {
   "cell_type": "code",
   "execution_count": 1,
   "metadata": {},
   "outputs": [],
   "source": [
    "import numpy as np"
   ]
  },
  {
   "cell_type": "code",
   "execution_count": 2,
   "metadata": {},
   "outputs": [
    {
     "name": "stdout",
     "output_type": "stream",
     "text": [
      "[0 1 2 3]\n"
     ]
    }
   ],
   "source": [
    "a = np.array([0, 1, 2, 3])\n",
    "print(a)"
   ]
  },
  {
   "cell_type": "code",
   "execution_count": 4,
   "metadata": {},
   "outputs": [
    {
     "name": "stdout",
     "output_type": "stream",
     "text": [
      "[0 1 2 3 4 5 6 7 8 9]\n"
     ]
    }
   ],
   "source": [
    "a1 = np.arange(10)\n",
    "print(a1)"
   ]
  },
  {
   "cell_type": "markdown",
   "metadata": {
    "colab_type": "text",
    "id": "BjqwPMHc5KB_"
   },
   "source": [
    "**Why it is useful:** Memory-efficient container that provides fast numerical operations."
   ]
  },
  {
   "cell_type": "code",
   "execution_count": 0,
   "metadata": {
    "colab": {},
    "colab_type": "code",
    "id": "vyVPcXHk5KCA",
    "outputId": "3ddf1896-e695-4934-c4b9-5621f308e909"
   },
   "outputs": [
    {
     "name": "stdout",
     "output_type": "stream",
     "text": [
      "307 µs ± 17.6 µs per loop (mean ± std. dev. of 7 runs, 1000 loops each)\n"
     ]
    }
   ],
   "source": [
    "#python lists\n",
    "L = range(1000)\n",
    "%timeit [i**2 for i in L]"
   ]
  },
  {
   "cell_type": "code",
   "execution_count": 0,
   "metadata": {
    "colab": {},
    "colab_type": "code",
    "id": "1gUw8VoU5KCG",
    "outputId": "ba7e057a-af4a-4c1c-ada5-fe3c68d3413f"
   },
   "outputs": [
    {
     "name": "stdout",
     "output_type": "stream",
     "text": [
      "1.35 µs ± 126 ns per loop (mean ± std. dev. of 7 runs, 1000000 loops each)\n"
     ]
    }
   ],
   "source": [
    "a = np.arange(1000)\n",
    "%timeit a**2"
   ]
  },
  {
   "cell_type": "code",
   "execution_count": 29,
   "metadata": {},
   "outputs": [],
   "source": [
    "a2 = np.array([[0, 1, 2, 3],[1,2,3,4]])"
   ]
  },
  {
   "cell_type": "code",
   "execution_count": 30,
   "metadata": {},
   "outputs": [
    {
     "data": {
      "text/plain": [
       "2"
      ]
     },
     "execution_count": 30,
     "metadata": {},
     "output_type": "execute_result"
    }
   ],
   "source": [
    "a2.ndim"
   ]
  },
  {
   "cell_type": "code",
   "execution_count": 31,
   "metadata": {},
   "outputs": [
    {
     "data": {
      "text/plain": [
       "(2, 4)"
      ]
     },
     "execution_count": 31,
     "metadata": {},
     "output_type": "execute_result"
    }
   ],
   "source": [
    "a2.shape"
   ]
  },
  {
   "cell_type": "code",
   "execution_count": 32,
   "metadata": {},
   "outputs": [
    {
     "data": {
      "text/plain": [
       "array([[0, 1, 2, 3],\n",
       "       [1, 2, 3, 4]])"
      ]
     },
     "execution_count": 32,
     "metadata": {},
     "output_type": "execute_result"
    }
   ],
   "source": [
    "a2"
   ]
  },
  {
   "cell_type": "code",
   "execution_count": 34,
   "metadata": {},
   "outputs": [
    {
     "data": {
      "text/plain": [
       "array([[0, 1],\n",
       "       [2, 3],\n",
       "       [1, 2],\n",
       "       [3, 4]])"
      ]
     },
     "execution_count": 34,
     "metadata": {},
     "output_type": "execute_result"
    }
   ],
   "source": [
    "a2.reshape(4,2)"
   ]
  },
  {
   "cell_type": "code",
   "execution_count": 38,
   "metadata": {},
   "outputs": [
    {
     "data": {
      "text/plain": [
       "array([  1.,  12.,  23.,  34.,  45.,  56.,  67.,  78.,  89., 100.])"
      ]
     },
     "execution_count": 38,
     "metadata": {},
     "output_type": "execute_result"
    }
   ],
   "source": [
    "m = np.linspace(1,100,10)\n",
    "m"
   ]
  },
  {
   "cell_type": "code",
   "execution_count": 45,
   "metadata": {},
   "outputs": [
    {
     "data": {
      "text/plain": [
       "[[[1, 2], [3, 4]], [[1, 2], [3, 4]]]"
      ]
     },
     "execution_count": 45,
     "metadata": {},
     "output_type": "execute_result"
    }
   ],
   "source": [
    "a = [[[1,2],[3,4]],[[1,2],[3,4]]]\n",
    "a"
   ]
  },
  {
   "cell_type": "code",
   "execution_count": 48,
   "metadata": {},
   "outputs": [
    {
     "data": {
      "text/plain": [
       "4"
      ]
     },
     "execution_count": 48,
     "metadata": {},
     "output_type": "execute_result"
    }
   ],
   "source": [
    "a[0][1][1]"
   ]
  },
  {
   "cell_type": "code",
   "execution_count": 54,
   "metadata": {},
   "outputs": [
    {
     "data": {
      "text/plain": [
       "array([[0.25999969, 0.99248675],\n",
       "       [0.93986485, 0.47484492],\n",
       "       [0.31490487, 0.42990104],\n",
       "       [0.68449364, 0.32879217],\n",
       "       [0.89474888, 0.29301181]])"
      ]
     },
     "execution_count": 54,
     "metadata": {},
     "output_type": "execute_result"
    }
   ],
   "source": [
    "np.random.rand(5,2)"
   ]
  },
  {
   "cell_type": "code",
   "execution_count": 56,
   "metadata": {},
   "outputs": [
    {
     "data": {
      "text/plain": [
       "array([[ 0.10485215,  0.11339477,  1.94645996,  1.17684529, -0.31509438],\n",
       "       [-0.18687574,  0.74452249,  0.07433619, -2.07970076, -0.18046743],\n",
       "       [ 0.15960398, -0.91726017, -0.38102805,  0.72012072,  0.13728477],\n",
       "       [ 0.39858266,  0.5088256 ,  0.86601489,  0.9053049 ,  0.09358064],\n",
       "       [ 1.35625072, -0.01473464, -1.36338459, -1.42842865,  1.08737014]])"
      ]
     },
     "execution_count": 56,
     "metadata": {},
     "output_type": "execute_result"
    }
   ],
   "source": [
    "np.random.randn(5,5)"
   ]
  },
  {
   "cell_type": "code",
   "execution_count": 61,
   "metadata": {},
   "outputs": [
    {
     "data": {
      "text/plain": [
       "16"
      ]
     },
     "execution_count": 61,
     "metadata": {},
     "output_type": "execute_result"
    }
   ],
   "source": [
    "np.random.randint(1,100)"
   ]
  },
  {
   "cell_type": "code",
   "execution_count": 69,
   "metadata": {},
   "outputs": [
    {
     "name": "stderr",
     "output_type": "stream",
     "text": [
      "C:\\Users\\Jesus\\Anaconda3\\lib\\site-packages\\ipykernel_launcher.py:1: DeprecationWarning: This function is deprecated. Please call randint(1, 100 + 1) instead\n",
      "  \"\"\"Entry point for launching an IPython kernel.\n"
     ]
    },
    {
     "data": {
      "text/plain": [
       "82"
      ]
     },
     "execution_count": 69,
     "metadata": {},
     "output_type": "execute_result"
    }
   ],
   "source": [
    "np.random.random_integers(1,100)"
   ]
  },
  {
   "cell_type": "code",
   "execution_count": 72,
   "metadata": {},
   "outputs": [
    {
     "name": "stdout",
     "output_type": "stream",
     "text": [
      "[[0.06225777 0.76791893]\n",
      " [0.11980706 0.73718583]]\n"
     ]
    },
    {
     "data": {
      "text/plain": [
       "array([[0.83553903, 0.4947996 ],\n",
       "       [0.20613114, 0.35630049]])"
      ]
     },
     "execution_count": 72,
     "metadata": {},
     "output_type": "execute_result"
    }
   ],
   "source": [
    "m = np.random.rand(2,2)\n",
    "n = np.random.rand(2,2)\n",
    "print(m)\n",
    "n"
   ]
  },
  {
   "cell_type": "code",
   "execution_count": 75,
   "metadata": {},
   "outputs": [
    {
     "data": {
      "text/plain": [
       "array([[0.06225777, 0.76791893],\n",
       "       [0.11980706, 0.73718583],\n",
       "       [0.83553903, 0.4947996 ],\n",
       "       [0.20613114, 0.35630049]])"
      ]
     },
     "execution_count": 75,
     "metadata": {},
     "output_type": "execute_result"
    }
   ],
   "source": [
    "np.vstack((m,n))"
   ]
  },
  {
   "cell_type": "code",
   "execution_count": 76,
   "metadata": {},
   "outputs": [
    {
     "data": {
      "text/plain": [
       "array([[0.06225777, 0.76791893, 0.83553903, 0.4947996 ],\n",
       "       [0.11980706, 0.73718583, 0.20613114, 0.35630049]])"
      ]
     },
     "execution_count": 76,
     "metadata": {},
     "output_type": "execute_result"
    }
   ],
   "source": [
    "np.hstack((m,n))"
   ]
  },
  {
   "cell_type": "code",
   "execution_count": 79,
   "metadata": {},
   "outputs": [
    {
     "data": {
      "text/plain": [
       "array([[1, 0, 0],\n",
       "       [0, 1, 0],\n",
       "       [0, 0, 1]])"
      ]
     },
     "execution_count": 79,
     "metadata": {},
     "output_type": "execute_result"
    }
   ],
   "source": [
    "np.eye(3,3).astype(int)"
   ]
  },
  {
   "cell_type": "code",
   "execution_count": 81,
   "metadata": {},
   "outputs": [
    {
     "data": {
      "text/plain": [
       "array([[1, 0, 0, 0],\n",
       "       [0, 2, 0, 0],\n",
       "       [0, 0, 3, 0],\n",
       "       [0, 0, 0, 4]])"
      ]
     },
     "execution_count": 81,
     "metadata": {},
     "output_type": "execute_result"
    }
   ],
   "source": [
    "m = np.diag([1,2,3,4])\n",
    "m"
   ]
  },
  {
   "cell_type": "code",
   "execution_count": 86,
   "metadata": {},
   "outputs": [
    {
     "data": {
      "text/plain": [
       "array([1, 2, 3, 4])"
      ]
     },
     "execution_count": 86,
     "metadata": {},
     "output_type": "execute_result"
    }
   ],
   "source": [
    "m.diagonal()"
   ]
  },
  {
   "cell_type": "code",
   "execution_count": 87,
   "metadata": {},
   "outputs": [
    {
     "data": {
      "text/plain": [
       "False"
      ]
     },
     "execution_count": 87,
     "metadata": {},
     "output_type": "execute_result"
    }
   ],
   "source": [
    "m.all()"
   ]
  },
  {
   "cell_type": "code",
   "execution_count": 88,
   "metadata": {},
   "outputs": [
    {
     "data": {
      "text/plain": [
       "True"
      ]
     },
     "execution_count": 88,
     "metadata": {},
     "output_type": "execute_result"
    }
   ],
   "source": [
    "m.any()"
   ]
  },
  {
   "cell_type": "code",
   "execution_count": 89,
   "metadata": {},
   "outputs": [
    {
     "data": {
      "text/plain": [
       "(15, 1)"
      ]
     },
     "execution_count": 89,
     "metadata": {},
     "output_type": "execute_result"
    }
   ],
   "source": [
    "m.argmax(),m.argmin()"
   ]
  },
  {
   "cell_type": "code",
   "execution_count": 90,
   "metadata": {},
   "outputs": [
    {
     "data": {
      "text/plain": [
       "(4, 0)"
      ]
     },
     "execution_count": 90,
     "metadata": {},
     "output_type": "execute_result"
    }
   ],
   "source": [
    "m.max(),m.min()"
   ]
  },
  {
   "cell_type": "code",
   "execution_count": 92,
   "metadata": {},
   "outputs": [
    {
     "data": {
      "text/plain": [
       "dtype('int32')"
      ]
     },
     "execution_count": 92,
     "metadata": {},
     "output_type": "execute_result"
    }
   ],
   "source": [
    "m.dtype"
   ]
  },
  {
   "cell_type": "markdown",
   "metadata": {},
   "source": [
    "**Each built-in data type has a character code that uniquely identifies it.**\n",
    "\n",
    "- 'b' − boolean\n",
    "- 'i' − (signed) integer\n",
    "- 'u' − unsigned integer\n",
    "- 'f' − floating-point\n",
    "- 'c' − complex-floating point\n",
    "- 'm' − timedelta\n",
    "- 'M' − datetime\n",
    "- 'O' − (Python) objects\n",
    "- 'S', 'a' − (byte-)string\n",
    "- 'U' − Unicode\n",
    "- 'V' − raw data (void)"
   ]
  },
  {
   "cell_type": "code",
   "execution_count": 111,
   "metadata": {},
   "outputs": [
    {
     "data": {
      "text/plain": [
       "dtype('complex128')"
      ]
     },
     "execution_count": 111,
     "metadata": {},
     "output_type": "execute_result"
    }
   ],
   "source": [
    "m = np.array([4 + 2j])\n",
    "m.dtype"
   ]
  },
  {
   "cell_type": "code",
   "execution_count": 113,
   "metadata": {},
   "outputs": [
    {
     "data": {
      "text/plain": [
       "array([2.+3.j, 4.+0.j])"
      ]
     },
     "execution_count": 113,
     "metadata": {},
     "output_type": "execute_result"
    }
   ],
   "source": [
    "m = np.array([2+3j, 4])\n",
    "m"
   ]
  },
  {
   "cell_type": "code",
   "execution_count": 114,
   "metadata": {},
   "outputs": [
    {
     "data": {
      "text/plain": [
       "dtype('complex128')"
      ]
     },
     "execution_count": 114,
     "metadata": {},
     "output_type": "execute_result"
    }
   ],
   "source": [
    "m.dtype"
   ]
  },
  {
   "cell_type": "code",
   "execution_count": 115,
   "metadata": {},
   "outputs": [
    {
     "data": {
      "text/plain": [
       "array(['(2+3j)', '4', 'python'], dtype='<U64')"
      ]
     },
     "execution_count": 115,
     "metadata": {},
     "output_type": "execute_result"
    }
   ],
   "source": [
    "m = np.array([2+3j, 4, 'python'])\n",
    "m"
   ]
  },
  {
   "cell_type": "code",
   "execution_count": 119,
   "metadata": {},
   "outputs": [
    {
     "data": {
      "text/plain": [
       "array([[0, 1],\n",
       "       [2, 3]])"
      ]
     },
     "execution_count": 119,
     "metadata": {},
     "output_type": "execute_result"
    }
   ],
   "source": [
    "m = np.arange(0,4).reshape(2,2)\n",
    "m"
   ]
  },
  {
   "cell_type": "code",
   "execution_count": 117,
   "metadata": {},
   "outputs": [
    {
     "data": {
      "text/plain": [
       "array([[0.83553903, 0.4947996 ],\n",
       "       [0.20613114, 0.35630049]])"
      ]
     },
     "execution_count": 117,
     "metadata": {},
     "output_type": "execute_result"
    }
   ],
   "source": [
    "n"
   ]
  },
  {
   "cell_type": "code",
   "execution_count": 120,
   "metadata": {},
   "outputs": [
    {
     "data": {
      "text/plain": [
       "array([[False, False],\n",
       "       [False, False]])"
      ]
     },
     "execution_count": 120,
     "metadata": {},
     "output_type": "execute_result"
    }
   ],
   "source": [
    "np.equal(m,n)"
   ]
  },
  {
   "cell_type": "code",
   "execution_count": 123,
   "metadata": {},
   "outputs": [
    {
     "data": {
      "text/plain": [
       "array([[1, 1, 1],\n",
       "       [1, 1, 1],\n",
       "       [1, 1, 1]])"
      ]
     },
     "execution_count": 123,
     "metadata": {},
     "output_type": "execute_result"
    }
   ],
   "source": [
    "one = np.ones(9,dtype=int).reshape(3,3)\n",
    "one "
   ]
  },
  {
   "cell_type": "code",
   "execution_count": 124,
   "metadata": {},
   "outputs": [
    {
     "data": {
      "text/plain": [
       "array([[5, 5, 5],\n",
       "       [5, 5, 5],\n",
       "       [5, 5, 5]])"
      ]
     },
     "execution_count": 124,
     "metadata": {},
     "output_type": "execute_result"
    }
   ],
   "source": [
    "five = 5 * one\n",
    "five"
   ]
  },
  {
   "cell_type": "code",
   "execution_count": 125,
   "metadata": {},
   "outputs": [
    {
     "data": {
      "text/plain": [
       "array([[15, 15, 15],\n",
       "       [15, 15, 15],\n",
       "       [15, 15, 15]])"
      ]
     },
     "execution_count": 125,
     "metadata": {},
     "output_type": "execute_result"
    }
   ],
   "source": [
    "np.dot(one,five)"
   ]
  },
  {
   "cell_type": "code",
   "execution_count": 126,
   "metadata": {},
   "outputs": [
    {
     "data": {
      "text/plain": [
       "array([[5, 5, 5],\n",
       "       [5, 5, 5],\n",
       "       [5, 5, 5]])"
      ]
     },
     "execution_count": 126,
     "metadata": {},
     "output_type": "execute_result"
    }
   ],
   "source": [
    "one * five"
   ]
  },
  {
   "cell_type": "code",
   "execution_count": 130,
   "metadata": {},
   "outputs": [
    {
     "data": {
      "text/plain": [
       "array([[6, 6, 6],\n",
       "       [6, 6, 6],\n",
       "       [6, 6, 6]])"
      ]
     },
     "execution_count": 130,
     "metadata": {},
     "output_type": "execute_result"
    }
   ],
   "source": [
    "six = one + five\n",
    "six"
   ]
  },
  {
   "cell_type": "code",
   "execution_count": 132,
   "metadata": {},
   "outputs": [
    {
     "data": {
      "text/plain": [
       "array([[1, 1],\n",
       "       [1, 1]])"
      ]
     },
     "execution_count": 132,
     "metadata": {},
     "output_type": "execute_result"
    }
   ],
   "source": [
    "a2 = one[:2,:2]\n",
    "a2"
   ]
  },
  {
   "cell_type": "code",
   "execution_count": 133,
   "metadata": {},
   "outputs": [
    {
     "data": {
      "text/plain": [
       "array([[ True, False],\n",
       "       [ True, False]])"
      ]
     },
     "execution_count": 133,
     "metadata": {},
     "output_type": "execute_result"
    }
   ],
   "source": [
    "bol = np.array([[True,False],[True,False]])\n",
    "bol"
   ]
  },
  {
   "cell_type": "code",
   "execution_count": 134,
   "metadata": {},
   "outputs": [
    {
     "data": {
      "text/plain": [
       "array([1, 1])"
      ]
     },
     "execution_count": 134,
     "metadata": {},
     "output_type": "execute_result"
    }
   ],
   "source": [
    "a2[bol]"
   ]
  },
  {
   "cell_type": "code",
   "execution_count": 135,
   "metadata": {},
   "outputs": [
    {
     "data": {
      "text/plain": [
       "array([480, 481, 482, 483, 484, 485, 486, 487, 488, 489, 490, 491, 492,\n",
       "       493, 494, 495, 496, 497, 498, 499, 500, 501, 502, 503, 504, 505,\n",
       "       506, 507, 508, 509, 510, 511, 512, 513, 514, 515, 516, 517, 518,\n",
       "       519, 520, 521, 522, 523, 524, 525, 526, 527, 528, 529, 530, 531,\n",
       "       532, 533, 534, 535, 536, 537, 538, 539, 540, 541, 542, 543, 544,\n",
       "       545, 546, 547, 548, 549, 550, 551, 552, 553, 554])"
      ]
     },
     "execution_count": 135,
     "metadata": {},
     "output_type": "execute_result"
    }
   ],
   "source": [
    "a = np.arange(480,555)\n",
    "a"
   ]
  },
  {
   "cell_type": "code",
   "execution_count": 138,
   "metadata": {},
   "outputs": [
    {
     "data": {
      "text/plain": [
       "array([480, 482, 484, 486, 488, 490, 492, 494, 496, 498, 500, 502, 504,\n",
       "       506, 508, 510, 512, 514, 516, 518, 520, 522, 524, 526, 528, 530,\n",
       "       532, 534, 536, 538, 540, 542, 544, 546, 548, 550, 552, 554])"
      ]
     },
     "execution_count": 138,
     "metadata": {},
     "output_type": "execute_result"
    }
   ],
   "source": [
    "e = a % 2 == 0\n",
    "a[e]"
   ]
  },
  {
   "cell_type": "code",
   "execution_count": 139,
   "metadata": {},
   "outputs": [
    {
     "data": {
      "text/plain": [
       "array([1950, 1951, 1952, 1953, 1954, 1955, 1956, 1957, 1958, 1959, 1960,\n",
       "       1961, 1962, 1963, 1964, 1965, 1966, 1967, 1968, 1969, 1970, 1971,\n",
       "       1972, 1973, 1974, 1975, 1976, 1977, 1978, 1979, 1980, 1981, 1982,\n",
       "       1983, 1984, 1985, 1986, 1987, 1988, 1989, 1990, 1991, 1992, 1993,\n",
       "       1994, 1995, 1996, 1997, 1998, 1999, 2000, 2001, 2002, 2003, 2004,\n",
       "       2005, 2006, 2007, 2008, 2009, 2010, 2011, 2012, 2013, 2014, 2015,\n",
       "       2016, 2017, 2018, 2019, 2020, 2021, 2022, 2023, 2024, 2025, 2026,\n",
       "       2027, 2028, 2029, 2030, 2031, 2032, 2033, 2034, 2035, 2036, 2037,\n",
       "       2038, 2039, 2040, 2041, 2042, 2043, 2044, 2045, 2046, 2047, 2048,\n",
       "       2049])"
      ]
     },
     "execution_count": 139,
     "metadata": {},
     "output_type": "execute_result"
    }
   ],
   "source": [
    "year = np.arange(1950,2050)\n",
    "year"
   ]
  },
  {
   "cell_type": "code",
   "execution_count": 145,
   "metadata": {},
   "outputs": [
    {
     "data": {
      "text/plain": [
       "array([1952, 1956, 1960, 1964, 1968, 1972, 1976, 1980, 1984, 1988, 1992,\n",
       "       1996, 2000, 2004, 2008, 2012, 2016, 2020, 2024, 2028, 2032, 2036,\n",
       "       2040, 2044, 2048])"
      ]
     },
     "execution_count": 145,
     "metadata": {},
     "output_type": "execute_result"
    }
   ],
   "source": [
    "leap = year[np.logical_or(year % 400 == 0,np.logical_and(year % 4 == 0,year % 100 != 0))]\n",
    "leap"
   ]
  },
  {
   "cell_type": "markdown",
   "metadata": {},
   "source": [
    "### repeating the elements"
   ]
  },
  {
   "cell_type": "code",
   "execution_count": 208,
   "metadata": {},
   "outputs": [
    {
     "data": {
      "text/plain": [
       "array([1952, 1952, 1956, 1956, 1960, 1960, 1964, 1964, 1968, 1968, 1972,\n",
       "       1972, 1976, 1976, 1980, 1980, 1984, 1984, 1988, 1988, 1992, 1992,\n",
       "       1996, 1996, 2000, 2000, 2004, 2004, 2008, 2008, 2012, 2012, 2016,\n",
       "       2016, 2020, 2020, 2024, 2024, 2028, 2028, 2032, 2032, 2036, 2036,\n",
       "       2040, 2040, 2044, 2044, 2048, 2048])"
      ]
     },
     "execution_count": 208,
     "metadata": {},
     "output_type": "execute_result"
    }
   ],
   "source": [
    "i = leap.repeat(2)\n",
    "i"
   ]
  },
  {
   "cell_type": "code",
   "execution_count": 209,
   "metadata": {},
   "outputs": [
    {
     "data": {
      "text/plain": [
       "50"
      ]
     },
     "execution_count": 209,
     "metadata": {},
     "output_type": "execute_result"
    }
   ],
   "source": [
    "len(i)"
   ]
  },
  {
   "cell_type": "code",
   "execution_count": 210,
   "metadata": {},
   "outputs": [
    {
     "data": {
      "text/plain": [
       "array([[[1952, 1952, 1956, 1956, 1960],\n",
       "        [1960, 1964, 1964, 1968, 1968],\n",
       "        [1972, 1972, 1976, 1976, 1980],\n",
       "        [1980, 1984, 1984, 1988, 1988],\n",
       "        [1992, 1992, 1996, 1996, 2000]],\n",
       "\n",
       "       [[2000, 2004, 2004, 2008, 2008],\n",
       "        [2012, 2012, 2016, 2016, 2020],\n",
       "        [2020, 2024, 2024, 2028, 2028],\n",
       "        [2032, 2032, 2036, 2036, 2040],\n",
       "        [2040, 2044, 2044, 2048, 2048]]])"
      ]
     },
     "execution_count": 210,
     "metadata": {},
     "output_type": "execute_result"
    }
   ],
   "source": [
    "j = i.reshape(2,5,5)\n",
    "j"
   ]
  },
  {
   "cell_type": "code",
   "execution_count": 211,
   "metadata": {},
   "outputs": [
    {
     "data": {
      "text/plain": [
       "array([[[1952, 1952, 1956, 1956, 1960],\n",
       "        [1960, 1964, 1964, 1968, 1968],\n",
       "        [1972, 1972, 1976, 1976, 1980],\n",
       "        [1980, 1984, 1984, 1988, 1988],\n",
       "        [1992, 1992, 1996, 1996, 2000]],\n",
       "\n",
       "       [[1952, 1952, 1956, 1956, 1960],\n",
       "        [1960, 1964, 1964, 1968, 1968],\n",
       "        [1972, 1972, 1976, 1976, 1980],\n",
       "        [1980, 1984, 1984, 1988, 1988],\n",
       "        [1992, 1992, 1996, 1996, 2000]],\n",
       "\n",
       "       [[2000, 2004, 2004, 2008, 2008],\n",
       "        [2012, 2012, 2016, 2016, 2020],\n",
       "        [2020, 2024, 2024, 2028, 2028],\n",
       "        [2032, 2032, 2036, 2036, 2040],\n",
       "        [2040, 2044, 2044, 2048, 2048]],\n",
       "\n",
       "       [[2000, 2004, 2004, 2008, 2008],\n",
       "        [2012, 2012, 2016, 2016, 2020],\n",
       "        [2020, 2024, 2024, 2028, 2028],\n",
       "        [2032, 2032, 2036, 2036, 2040],\n",
       "        [2040, 2044, 2044, 2048, 2048]]])"
      ]
     },
     "execution_count": 211,
     "metadata": {},
     "output_type": "execute_result"
    }
   ],
   "source": [
    "j.repeat(2,axis = 0)"
   ]
  },
  {
   "cell_type": "code",
   "execution_count": 212,
   "metadata": {},
   "outputs": [
    {
     "data": {
      "text/plain": [
       "100000"
      ]
     },
     "execution_count": 212,
     "metadata": {},
     "output_type": "execute_result"
    }
   ],
   "source": [
    "j.sum()"
   ]
  },
  {
   "cell_type": "code",
   "execution_count": 213,
   "metadata": {},
   "outputs": [
    {
     "data": {
      "text/plain": [
       "array([[-534413312,  395575296, 1745911808, -635183104,  273842176],\n",
       "       [-316571648, 1745543168,  618086400, 1166016512, -706740224]])"
      ]
     },
     "execution_count": 213,
     "metadata": {},
     "output_type": "execute_result"
    }
   ],
   "source": [
    "j.prod(axis = 1)"
   ]
  },
  {
   "cell_type": "code",
   "execution_count": 214,
   "metadata": {},
   "outputs": [
    {
     "data": {
      "text/plain": [
       "array([  1952,   3904,   5860,   7816,   9776,  11736,  13700,  15664,\n",
       "        17632,  19600,  21572,  23544,  25520,  27496,  29476,  31456,\n",
       "        33440,  35424,  37412,  39400,  41392,  43384,  45380,  47376,\n",
       "        49376,  51376,  53380,  55384,  57392,  59400,  61412,  63424,\n",
       "        65440,  67456,  69476,  71496,  73520,  75544,  77572,  79600,\n",
       "        81632,  83664,  85700,  87736,  89776,  91816,  93860,  95904,\n",
       "        97952, 100000], dtype=int32)"
      ]
     },
     "execution_count": 214,
     "metadata": {},
     "output_type": "execute_result"
    }
   ],
   "source": [
    "j.cumsum()"
   ]
  },
  {
   "cell_type": "code",
   "execution_count": 215,
   "metadata": {},
   "outputs": [
    {
     "data": {
      "text/plain": [
       "2000.0"
      ]
     },
     "execution_count": 215,
     "metadata": {},
     "output_type": "execute_result"
    }
   ],
   "source": [
    "j.mean()"
   ]
  },
  {
   "cell_type": "code",
   "execution_count": 216,
   "metadata": {},
   "outputs": [
    {
     "data": {
      "text/plain": [
       "50"
      ]
     },
     "execution_count": 216,
     "metadata": {},
     "output_type": "execute_result"
    }
   ],
   "source": [
    "j.size"
   ]
  },
  {
   "cell_type": "code",
   "execution_count": 217,
   "metadata": {},
   "outputs": [
    {
     "data": {
      "text/plain": [
       "[[[1952, 1952, 1956, 1956, 1960],\n",
       "  [1960, 1964, 1964, 1968, 1968],\n",
       "  [1972, 1972, 1976, 1976, 1980],\n",
       "  [1980, 1984, 1984, 1988, 1988],\n",
       "  [1992, 1992, 1996, 1996, 2000]],\n",
       " [[2000, 2004, 2004, 2008, 2008],\n",
       "  [2012, 2012, 2016, 2016, 2020],\n",
       "  [2020, 2024, 2024, 2028, 2028],\n",
       "  [2032, 2032, 2036, 2036, 2040],\n",
       "  [2040, 2044, 2044, 2048, 2048]]]"
      ]
     },
     "execution_count": 217,
     "metadata": {},
     "output_type": "execute_result"
    }
   ],
   "source": [
    "j.tolist()"
   ]
  },
  {
   "cell_type": "code",
   "execution_count": 218,
   "metadata": {},
   "outputs": [
    {
     "data": {
      "text/plain": [
       "[array([[1952, 1952, 1956, 1956, 1960],\n",
       "        [1960, 1964, 1964, 1968, 1968],\n",
       "        [1972, 1972, 1976, 1976, 1980],\n",
       "        [1980, 1984, 1984, 1988, 1988],\n",
       "        [1992, 1992, 1996, 1996, 2000]]),\n",
       " array([[2000, 2004, 2004, 2008, 2008],\n",
       "        [2012, 2012, 2016, 2016, 2020],\n",
       "        [2020, 2024, 2024, 2028, 2028],\n",
       "        [2032, 2032, 2036, 2036, 2040],\n",
       "        [2040, 2044, 2044, 2048, 2048]])]"
      ]
     },
     "execution_count": 218,
     "metadata": {},
     "output_type": "execute_result"
    }
   ],
   "source": [
    "list(j)"
   ]
  },
  {
   "cell_type": "code",
   "execution_count": 219,
   "metadata": {},
   "outputs": [
    {
     "data": {
      "text/plain": [
       "b'\\xa0\\x07\\x00\\x00\\xa0\\x07\\x00\\x00\\xa4\\x07\\x00\\x00\\xa4\\x07\\x00\\x00\\xa8\\x07\\x00\\x00\\xa8\\x07\\x00\\x00\\xac\\x07\\x00\\x00\\xac\\x07\\x00\\x00\\xb0\\x07\\x00\\x00\\xb0\\x07\\x00\\x00\\xb4\\x07\\x00\\x00\\xb4\\x07\\x00\\x00\\xb8\\x07\\x00\\x00\\xb8\\x07\\x00\\x00\\xbc\\x07\\x00\\x00\\xbc\\x07\\x00\\x00\\xc0\\x07\\x00\\x00\\xc0\\x07\\x00\\x00\\xc4\\x07\\x00\\x00\\xc4\\x07\\x00\\x00\\xc8\\x07\\x00\\x00\\xc8\\x07\\x00\\x00\\xcc\\x07\\x00\\x00\\xcc\\x07\\x00\\x00\\xd0\\x07\\x00\\x00\\xd0\\x07\\x00\\x00\\xd4\\x07\\x00\\x00\\xd4\\x07\\x00\\x00\\xd8\\x07\\x00\\x00\\xd8\\x07\\x00\\x00\\xdc\\x07\\x00\\x00\\xdc\\x07\\x00\\x00\\xe0\\x07\\x00\\x00\\xe0\\x07\\x00\\x00\\xe4\\x07\\x00\\x00\\xe4\\x07\\x00\\x00\\xe8\\x07\\x00\\x00\\xe8\\x07\\x00\\x00\\xec\\x07\\x00\\x00\\xec\\x07\\x00\\x00\\xf0\\x07\\x00\\x00\\xf0\\x07\\x00\\x00\\xf4\\x07\\x00\\x00\\xf4\\x07\\x00\\x00\\xf8\\x07\\x00\\x00\\xf8\\x07\\x00\\x00\\xfc\\x07\\x00\\x00\\xfc\\x07\\x00\\x00\\x00\\x08\\x00\\x00\\x00\\x08\\x00\\x00'"
      ]
     },
     "execution_count": 219,
     "metadata": {},
     "output_type": "execute_result"
    }
   ],
   "source": [
    "j.tostring()"
   ]
  },
  {
   "cell_type": "code",
   "execution_count": 220,
   "metadata": {},
   "outputs": [
    {
     "data": {
      "text/plain": [
       "array([[[3810304, 3810304, 3825936, 3825936, 3841600],\n",
       "        [3841600, 3857296, 3857296, 3873024, 3873024],\n",
       "        [3888784, 3888784, 3904576, 3904576, 3920400],\n",
       "        [3920400, 3936256, 3936256, 3952144, 3952144],\n",
       "        [3968064, 3968064, 3984016, 3984016, 4000000]],\n",
       "\n",
       "       [[4000000, 4016016, 4016016, 4032064, 4032064],\n",
       "        [4048144, 4048144, 4064256, 4064256, 4080400],\n",
       "        [4080400, 4096576, 4096576, 4112784, 4112784],\n",
       "        [4129024, 4129024, 4145296, 4145296, 4161600],\n",
       "        [4161600, 4177936, 4177936, 4194304, 4194304]]], dtype=int32)"
      ]
     },
     "execution_count": 220,
     "metadata": {},
     "output_type": "execute_result"
    }
   ],
   "source": [
    "np.power(j,2)"
   ]
  },
  {
   "cell_type": "code",
   "execution_count": 221,
   "metadata": {},
   "outputs": [
    {
     "data": {
      "text/plain": [
       "False"
      ]
     },
     "execution_count": 221,
     "metadata": {},
     "output_type": "execute_result"
    }
   ],
   "source": [
    "np.array_equal(j,a)"
   ]
  },
  {
   "cell_type": "code",
   "execution_count": 227,
   "metadata": {},
   "outputs": [],
   "source": [
    "j[0:2,0] = 0"
   ]
  },
  {
   "cell_type": "code",
   "execution_count": 228,
   "metadata": {},
   "outputs": [
    {
     "data": {
      "text/plain": [
       "array([[[   0,    0,    0,    0,    0],\n",
       "        [1960, 1964, 1964, 1968, 1968],\n",
       "        [1972, 1972, 1976, 1976, 1980],\n",
       "        [1980, 1984, 1984, 1988, 1988],\n",
       "        [1992, 1992, 1996, 1996, 2000]],\n",
       "\n",
       "       [[   0,    0,    0,    0,    0],\n",
       "        [2012, 2012, 2016, 2016, 2020],\n",
       "        [2020, 2024, 2024, 2028, 2028],\n",
       "        [2032, 2032, 2036, 2036, 2040],\n",
       "        [2040, 2044, 2044, 2048, 2048]]])"
      ]
     },
     "execution_count": 228,
     "metadata": {},
     "output_type": "execute_result"
    }
   ],
   "source": [
    "j"
   ]
  },
  {
   "cell_type": "code",
   "execution_count": 244,
   "metadata": {},
   "outputs": [
    {
     "data": {
      "text/plain": [
       "array([2012])"
      ]
     },
     "execution_count": 244,
     "metadata": {},
     "output_type": "execute_result"
    }
   ],
   "source": [
    "j[[1],[1],[0]]"
   ]
  },
  {
   "cell_type": "code",
   "execution_count": 245,
   "metadata": {},
   "outputs": [
    {
     "data": {
      "text/plain": [
       "array([480, 481, 482, 483, 484, 485, 486, 487, 488, 489, 490, 491, 492,\n",
       "       493, 494, 495, 496, 497, 498, 499, 500, 501, 502, 503, 504, 505,\n",
       "       506, 507, 508, 509, 510, 511, 512, 513, 514, 515, 516, 517, 518,\n",
       "       519, 520, 521, 522, 523, 524, 525, 526, 527, 528, 529, 530, 531,\n",
       "       532, 533, 534, 535, 536, 537, 538, 539, 540, 541, 542, 543, 544,\n",
       "       545, 546, 547, 548, 549, 550, 551, 552, 553, 554, 555, 556, 557,\n",
       "       558, 559, 560, 561, 562, 563, 564, 565, 566, 567, 568, 569, 570,\n",
       "       571, 572, 573, 574, 575, 576, 577, 578, 579, 580, 581, 582, 583,\n",
       "       584, 585, 586, 587, 588, 589, 590, 591, 592, 593, 594, 595, 596,\n",
       "       597, 598, 599, 600, 601, 602, 603, 604, 605, 606, 607, 608, 609,\n",
       "       610, 611, 612, 613, 614, 615, 616, 617, 618, 619, 620, 621, 622,\n",
       "       623, 624, 625, 626, 627, 628, 629, 630, 631, 632, 633, 634, 635,\n",
       "       636, 637, 638, 639, 640, 641, 642, 643, 644, 645, 646, 647, 648,\n",
       "       649, 650, 651, 652, 653, 654, 655, 656, 657, 658, 659, 660, 661,\n",
       "       662, 663, 664, 665, 666, 667, 668, 669, 670, 671, 672, 673, 674,\n",
       "       675, 676, 677, 678, 679, 680, 681, 682, 683, 684, 685, 686, 687,\n",
       "       688, 689, 690, 691, 692, 693, 694, 695, 696, 697, 698, 699, 700,\n",
       "       701, 702, 703, 704, 705, 706, 707, 708, 709, 710, 711, 712, 713,\n",
       "       714, 715, 716, 717, 718, 719, 720, 721, 722, 723, 724, 725, 726,\n",
       "       727, 728, 729, 730, 731, 732, 733, 734, 735, 736, 737, 738, 739,\n",
       "       740, 741, 742, 743, 744, 745, 746, 747, 748, 749, 750, 751, 752,\n",
       "       753, 754, 755, 756, 757, 758, 759, 760, 761, 762, 763, 764, 765,\n",
       "       766, 767, 768, 769, 770, 771, 772, 773, 774, 775, 776, 777, 778,\n",
       "       779, 780, 781, 782, 783, 784, 785, 786, 787, 788, 789, 790, 791,\n",
       "       792, 793, 794, 795, 796, 797, 798, 799, 800, 801, 802, 803, 804,\n",
       "       805, 806, 807, 808, 809, 810, 811, 812, 813, 814, 815, 816, 817,\n",
       "       818, 819, 820, 821, 822, 823, 824, 825, 826, 827, 828, 829, 830,\n",
       "       831, 832, 833, 834, 835, 836, 837, 838, 839, 840, 841, 842, 843,\n",
       "       844, 845, 846, 847, 848, 849, 850, 851, 852, 853, 854, 855, 856,\n",
       "       857, 858, 859, 860, 861, 862, 863, 864, 865, 866, 867, 868, 869,\n",
       "       870, 871, 872, 873, 874, 875, 876, 877, 878, 879, 880, 881, 882,\n",
       "       883, 884, 885, 886, 887, 888, 889])"
      ]
     },
     "execution_count": 245,
     "metadata": {},
     "output_type": "execute_result"
    }
   ],
   "source": [
    "np.arange(480,890)"
   ]
  },
  {
   "cell_type": "code",
   "execution_count": 282,
   "metadata": {},
   "outputs": [
    {
     "data": {
      "text/plain": [
       "array([[0.59154465, 0.40432598, 0.40629042, 0.04940587, 0.80267282],\n",
       "       [0.15696665, 0.48129777, 0.13889431, 0.05290738, 0.7009945 ],\n",
       "       [0.34030498, 0.17267325, 0.49926741, 0.00699208, 0.63944395],\n",
       "       [0.66423412, 0.77530783, 0.11631509, 0.6627762 , 0.33084882],\n",
       "       [0.41411563, 0.55914351, 0.70106346, 0.53403925, 0.76641013]])"
      ]
     },
     "execution_count": 282,
     "metadata": {},
     "output_type": "execute_result"
    }
   ],
   "source": [
    "j = np.random.rand(5,5)\n",
    "j"
   ]
  },
  {
   "cell_type": "code",
   "execution_count": 286,
   "metadata": {},
   "outputs": [
    {
     "data": {
      "text/plain": [
       "array([[0.00699208, 0.11631509, 0.15696665, 0.17267325, 0.33084882],\n",
       "       [0.04940587, 0.13889431, 0.34030498, 0.40432598, 0.63944395],\n",
       "       [0.05290738, 0.40629042, 0.41411563, 0.48129777, 0.7009945 ],\n",
       "       [0.49926741, 0.53403925, 0.55914351, 0.59154465, 0.76641013],\n",
       "       [0.6627762 , 0.66423412, 0.70106346, 0.77530783, 0.80267282]])"
      ]
     },
     "execution_count": 286,
     "metadata": {},
     "output_type": "execute_result"
    }
   ],
   "source": [
    "j.sort()\n",
    "j"
   ]
  },
  {
   "cell_type": "code",
   "execution_count": 288,
   "metadata": {},
   "outputs": [],
   "source": [
    "j.sort(axis = 0)\n"
   ]
  },
  {
   "cell_type": "code",
   "execution_count": 287,
   "metadata": {},
   "outputs": [
    {
     "data": {
      "text/plain": [
       "array([[0, 1, 2, 3, 4],\n",
       "       [0, 1, 2, 3, 4],\n",
       "       [0, 1, 2, 3, 4],\n",
       "       [0, 1, 2, 3, 4],\n",
       "       [0, 1, 2, 3, 4]], dtype=int64)"
      ]
     },
     "execution_count": 287,
     "metadata": {},
     "output_type": "execute_result"
    }
   ],
   "source": [
    "j.argsort()"
   ]
  },
  {
   "cell_type": "code",
   "execution_count": 280,
   "metadata": {},
   "outputs": [
    {
     "data": {
      "text/plain": [
       "array([[0.87802998, 0.04032474, 0.78903187, 0.64192567, 0.21271053],\n",
       "       [0.11063265, 0.59057302, 0.21143659, 0.0347463 , 0.88829496],\n",
       "       [0.86044692, 0.8253898 , 0.96069419, 0.51575314, 0.52921158],\n",
       "       [0.60314643, 0.91714107, 0.39967668, 0.53603127, 0.09023255],\n",
       "       [0.40814956, 0.5439583 , 0.75516571, 0.54451929, 0.2189376 ]])"
      ]
     },
     "execution_count": 280,
     "metadata": {},
     "output_type": "execute_result"
    }
   ],
   "source": [
    "j"
   ]
  },
  {
   "cell_type": "code",
   "execution_count": 289,
   "metadata": {},
   "outputs": [
    {
     "data": {
      "text/plain": [
       "0.48129777200405455"
      ]
     },
     "execution_count": 289,
     "metadata": {},
     "output_type": "execute_result"
    }
   ],
   "source": [
    "np.median(j)"
   ]
  },
  {
   "cell_type": "code",
   "execution_count": 292,
   "metadata": {},
   "outputs": [
    {
     "data": {
      "text/plain": [
       "array([0.05290738, 0.40629042, 0.41411563, 0.48129777, 0.7009945 ])"
      ]
     },
     "execution_count": 292,
     "metadata": {},
     "output_type": "execute_result"
    }
   ],
   "source": [
    "np.median(j, axis = 0)"
   ]
  },
  {
   "cell_type": "code",
   "execution_count": 293,
   "metadata": {},
   "outputs": [
    {
     "data": {
      "text/plain": [
       "array([0.15696665, 0.34030498, 0.41411563, 0.55914351, 0.70106346])"
      ]
     },
     "execution_count": 293,
     "metadata": {},
     "output_type": "execute_result"
    }
   ],
   "source": [
    "np.median(j, axis = 1)"
   ]
  },
  {
   "cell_type": "code",
   "execution_count": 299,
   "metadata": {},
   "outputs": [
    {
     "data": {
      "text/plain": [
       "0.24815231814137928"
      ]
     },
     "execution_count": 299,
     "metadata": {},
     "output_type": "execute_result"
    }
   ],
   "source": [
    "j.std()"
   ]
  },
  {
   "cell_type": "code",
   "execution_count": 300,
   "metadata": {},
   "outputs": [
    {
     "data": {
      "text/plain": [
       "0.06157957299894032"
      ]
     },
     "execution_count": 300,
     "metadata": {},
     "output_type": "execute_result"
    }
   ],
   "source": [
    "j.var()"
   ]
  },
  {
   "cell_type": "code",
   "execution_count": 304,
   "metadata": {},
   "outputs": [
    {
     "name": "stdout",
     "output_type": "stream",
     "text": [
      "Help on built-in function flatten:\n",
      "\n",
      "flatten(...) method of numpy.ndarray instance\n",
      "    a.flatten(order='C')\n",
      "    \n",
      "    Return a copy of the array collapsed into one dimension.\n",
      "    \n",
      "    Parameters\n",
      "    ----------\n",
      "    order : {'C', 'F', 'A', 'K'}, optional\n",
      "        'C' means to flatten in row-major (C-style) order.\n",
      "        'F' means to flatten in column-major (Fortran-\n",
      "        style) order. 'A' means to flatten in column-major\n",
      "        order if `a` is Fortran *contiguous* in memory,\n",
      "        row-major order otherwise. 'K' means to flatten\n",
      "        `a` in the order the elements occur in memory.\n",
      "        The default is 'C'.\n",
      "    \n",
      "    Returns\n",
      "    -------\n",
      "    y : ndarray\n",
      "        A copy of the input array, flattened to one dimension.\n",
      "    \n",
      "    See Also\n",
      "    --------\n",
      "    ravel : Return a flattened array.\n",
      "    flat : A 1-D flat iterator over the array.\n",
      "    \n",
      "    Examples\n",
      "    --------\n",
      "    >>> a = np.array([[1,2], [3,4]])\n",
      "    >>> a.flatten()\n",
      "    array([1, 2, 3, 4])\n",
      "    >>> a.flatten('F')\n",
      "    array([1, 3, 2, 4])\n",
      "\n"
     ]
    }
   ],
   "source": [
    "help(j.flatten)"
   ]
  },
  {
   "cell_type": "code",
   "execution_count": 309,
   "metadata": {},
   "outputs": [],
   "source": [
    "n = j.flatten()"
   ]
  },
  {
   "cell_type": "code",
   "execution_count": 312,
   "metadata": {},
   "outputs": [
    {
     "data": {
      "text/plain": [
       "array([[0.00699208, 0.04940587, 0.05290738, 0.49926741, 0.6627762 ],\n",
       "       [0.11631509, 0.13889431, 0.40629042, 0.53403925, 0.66423412],\n",
       "       [0.15696665, 0.34030498, 0.41411563, 0.55914351, 0.70106346],\n",
       "       [0.17267325, 0.40432598, 0.48129777, 0.59154465, 0.77530783],\n",
       "       [0.33084882, 0.63944395, 0.7009945 , 0.76641013, 0.80267282]])"
      ]
     },
     "execution_count": 312,
     "metadata": {},
     "output_type": "execute_result"
    }
   ],
   "source": [
    "j.T"
   ]
  },
  {
   "cell_type": "code",
   "execution_count": 316,
   "metadata": {},
   "outputs": [
    {
     "data": {
      "text/plain": [
       "array([[0.6627762 , 0.66423412, 0.70106346, 0.77530783, 0.80267282],\n",
       "       [0.49926741, 0.53403925, 0.55914351, 0.59154465, 0.76641013],\n",
       "       [0.05290738, 0.40629042, 0.41411563, 0.48129777, 0.7009945 ],\n",
       "       [0.04940587, 0.13889431, 0.34030498, 0.40432598, 0.63944395],\n",
       "       [0.00699208, 0.11631509, 0.15696665, 0.17267325, 0.33084882]])"
      ]
     },
     "execution_count": 316,
     "metadata": {},
     "output_type": "execute_result"
    }
   ],
   "source": [
    "j[::-1]"
   ]
  },
  {
   "cell_type": "code",
   "execution_count": 319,
   "metadata": {},
   "outputs": [
    {
     "name": "stdout",
     "output_type": "stream",
     "text": [
      "Help on built-in function swapaxes:\n",
      "\n",
      "swapaxes(...) method of numpy.ndarray instance\n",
      "    a.swapaxes(axis1, axis2)\n",
      "    \n",
      "    Return a view of the array with `axis1` and `axis2` interchanged.\n",
      "    \n",
      "    Refer to `numpy.swapaxes` for full documentation.\n",
      "    \n",
      "    See Also\n",
      "    --------\n",
      "    numpy.swapaxes : equivalent function\n",
      "\n"
     ]
    }
   ],
   "source": [
    "help(j.swapaxes)"
   ]
  },
  {
   "cell_type": "code",
   "execution_count": 323,
   "metadata": {},
   "outputs": [
    {
     "data": {
      "text/plain": [
       "array([[0.00699208, 0.04940587, 0.05290738, 0.49926741, 0.6627762 ],\n",
       "       [0.11631509, 0.13889431, 0.40629042, 0.53403925, 0.66423412],\n",
       "       [0.15696665, 0.34030498, 0.41411563, 0.55914351, 0.70106346],\n",
       "       [0.17267325, 0.40432598, 0.48129777, 0.59154465, 0.77530783],\n",
       "       [0.33084882, 0.63944395, 0.7009945 , 0.76641013, 0.80267282]])"
      ]
     },
     "execution_count": 323,
     "metadata": {},
     "output_type": "execute_result"
    }
   ],
   "source": [
    "j.swapaxes(0,1)"
   ]
  },
  {
   "cell_type": "code",
   "execution_count": 329,
   "metadata": {},
   "outputs": [
    {
     "ename": "SyntaxError",
     "evalue": "invalid syntax (<ipython-input-329-c468a4d8b1e5>, line 1)",
     "output_type": "error",
     "traceback": [
      "\u001b[1;36m  File \u001b[1;32m\"<ipython-input-329-c468a4d8b1e5>\"\u001b[1;36m, line \u001b[1;32m1\u001b[0m\n\u001b[1;33m    numpy --ver--\u001b[0m\n\u001b[1;37m                 ^\u001b[0m\n\u001b[1;31mSyntaxError\u001b[0m\u001b[1;31m:\u001b[0m invalid syntax\n"
     ]
    }
   ],
   "source": [
    "numpy --ver--"
   ]
  },
  {
   "cell_type": "code",
   "execution_count": 335,
   "metadata": {},
   "outputs": [
    {
     "data": {
      "text/plain": [
       "array([nan,  2.,  3.,  5.,  5.])"
      ]
     },
     "execution_count": 335,
     "metadata": {},
     "output_type": "execute_result"
    }
   ],
   "source": [
    "n = np.array([np.nan,2,3,5,5])\n",
    "n"
   ]
  },
  {
   "cell_type": "code",
   "execution_count": 340,
   "metadata": {},
   "outputs": [
    {
     "data": {
      "text/plain": [
       "dtype('float64')"
      ]
     },
     "execution_count": 340,
     "metadata": {},
     "output_type": "execute_result"
    }
   ],
   "source": [
    "n.dtype"
   ]
  },
  {
   "cell_type": "code",
   "execution_count": null,
   "metadata": {},
   "outputs": [],
   "source": []
  }
 ],
 "metadata": {
  "kernelspec": {
   "display_name": "Python 3",
   "language": "python",
   "name": "python3"
  },
  "language_info": {
   "codemirror_mode": {
    "name": "ipython",
    "version": 3
   },
   "file_extension": ".py",
   "mimetype": "text/x-python",
   "name": "python",
   "nbconvert_exporter": "python",
   "pygments_lexer": "ipython3",
   "version": "3.7.3"
  }
 },
 "nbformat": 4,
 "nbformat_minor": 2
}
